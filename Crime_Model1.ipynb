{
  "nbformat": 4,
  "nbformat_minor": 0,
  "metadata": {
    "colab": {
      "name": "Crime_Model1.ipynb",
      "provenance": [],
      "collapsed_sections": [],
      "authorship_tag": "ABX9TyOO0zExxFKVnjYgW0HgQagG",
      "include_colab_link": true
    },
    "kernelspec": {
      "name": "python3",
      "display_name": "Python 3"
    },
    "language_info": {
      "name": "python"
    }
  },
  "cells": [
    {
      "cell_type": "markdown",
      "metadata": {
        "id": "view-in-github",
        "colab_type": "text"
      },
      "source": [
        "<a href=\"https://colab.research.google.com/github/Shubham-1-cell/Crime_Mapping_And_Prediction/blob/main/Crime_Model1.ipynb\" target=\"_parent\"><img src=\"https://colab.research.google.com/assets/colab-badge.svg\" alt=\"Open In Colab\"/></a>"
      ]
    },
    {
      "cell_type": "code",
      "metadata": {
        "id": "mf4eq-q6EszT",
        "colab": {
          "base_uri": "https://localhost:8080/"
        },
        "outputId": "b4480e5c-eeff-451f-b65c-ad7c934b24fe"
      },
      "source": [
        "!pip install chart_studio"
      ],
      "execution_count": 1,
      "outputs": [
        {
          "output_type": "stream",
          "text": [
            "Collecting chart_studio\n",
            "\u001b[?25l  Downloading https://files.pythonhosted.org/packages/ca/ce/330794a6b6ca4b9182c38fc69dd2a9cbff60fd49421cb8648ee5fee352dc/chart_studio-1.1.0-py3-none-any.whl (64kB)\n",
            "\r\u001b[K     |█████                           | 10kB 14.2MB/s eta 0:00:01\r\u001b[K     |██████████▏                     | 20kB 9.2MB/s eta 0:00:01\r\u001b[K     |███████████████▎                | 30kB 5.7MB/s eta 0:00:01\r\u001b[K     |████████████████████▍           | 40kB 5.4MB/s eta 0:00:01\r\u001b[K     |█████████████████████████▍      | 51kB 2.7MB/s eta 0:00:01\r\u001b[K     |██████████████████████████████▌ | 61kB 3.0MB/s eta 0:00:01\r\u001b[K     |████████████████████████████████| 71kB 2.5MB/s \n",
            "\u001b[?25hRequirement already satisfied: retrying>=1.3.3 in /usr/local/lib/python3.7/dist-packages (from chart_studio) (1.3.3)\n",
            "Requirement already satisfied: plotly in /usr/local/lib/python3.7/dist-packages (from chart_studio) (4.4.1)\n",
            "Requirement already satisfied: six in /usr/local/lib/python3.7/dist-packages (from chart_studio) (1.15.0)\n",
            "Requirement already satisfied: requests in /usr/local/lib/python3.7/dist-packages (from chart_studio) (2.23.0)\n",
            "Requirement already satisfied: idna<3,>=2.5 in /usr/local/lib/python3.7/dist-packages (from requests->chart_studio) (2.10)\n",
            "Requirement already satisfied: certifi>=2017.4.17 in /usr/local/lib/python3.7/dist-packages (from requests->chart_studio) (2021.5.30)\n",
            "Requirement already satisfied: chardet<4,>=3.0.2 in /usr/local/lib/python3.7/dist-packages (from requests->chart_studio) (3.0.4)\n",
            "Requirement already satisfied: urllib3!=1.25.0,!=1.25.1,<1.26,>=1.21.1 in /usr/local/lib/python3.7/dist-packages (from requests->chart_studio) (1.24.3)\n",
            "Installing collected packages: chart-studio\n",
            "Successfully installed chart-studio-1.1.0\n"
          ],
          "name": "stdout"
        }
      ]
    },
    {
      "cell_type": "code",
      "metadata": {
        "id": "KCGEzdfQJc8a"
      },
      "source": [
        "# Libraries \n",
        "\n",
        "import pandas as pd \n",
        "import chart_studio.plotly as py \n",
        "import plotly.figure_factory as ff \n",
        "from  plotly.offline import download_plotlyjs, init_notebook_mode,plot,iplot \n",
        "import plotly.graph_objs as go \n",
        "import time \n",
        "import numpy as np \n",
        "from chart_studio.grid_objs import Grid, Column \n",
        "import cufflinks as cf"
      ],
      "execution_count": 3,
      "outputs": []
    },
    {
      "cell_type": "code",
      "metadata": {
        "colab": {
          "base_uri": "https://localhost:8080/"
        },
        "id": "bOfInNOUJpUn",
        "outputId": "faf22bd6-baa9-4d9c-96aa-71adb20f36d9"
      },
      "source": [
        "from google.colab import drive\n",
        "drive.mount('/content/drive')"
      ],
      "execution_count": 4,
      "outputs": [
        {
          "output_type": "stream",
          "text": [
            "Mounted at /content/drive\n"
          ],
          "name": "stdout"
        }
      ]
    },
    {
      "cell_type": "code",
      "metadata": {
        "id": "zm8OG2xZJ7wV"
      },
      "source": [
        "from plotly.offline import download_plotlyjs, init_notebook_mode, plot, iplot "
      ],
      "execution_count": 6,
      "outputs": []
    }
  ]
}